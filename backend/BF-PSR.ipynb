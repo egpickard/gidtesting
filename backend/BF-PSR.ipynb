{
 "cells": [
  {
   "cell_type": "code",
   "execution_count": 7,
   "metadata": {},
   "outputs": [],
   "source": [
    "from utils_functions import *"
   ]
  },
  {
   "cell_type": "code",
   "execution_count": 3,
   "metadata": {},
   "outputs": [
    {
     "data": {
      "text/plain": [
       "b'/Users/aidan/Documents/cs596E/testing_BF-PSR/BF-PSR-Framework/Concurrent Methods/BF-PSR'"
      ]
     },
     "execution_count": 3,
     "metadata": {},
     "output_type": "execute_result"
    }
   ],
   "source": [
    "import os \n",
    "os.getcwdb()\n",
    "from datefinder import find_dates"
   ]
  },
  {
   "cell_type": "markdown",
   "metadata": {},
   "source": [
    "# Loading training and testing data with 100% of conversations content (offline-stage)"
   ]
  },
  {
   "cell_type": "code",
   "execution_count": 48,
   "metadata": {},
   "outputs": [
    {
     "name": "stdout",
     "output_type": "stream",
     "text": [
      "\u001b[91m\n",
      "Training data loaded ... Number of conversations:  66927\n",
      "Groomers Train:  1  Non-groomers Train:  1\n",
      "Conversation 1:  Hola. hi. whats up?   ...\n",
      "Conversation 1 start time:  03:20\n",
      "Conversation 1 label:  0\n",
      "**************************************************\n",
      "\u001b[96m\n",
      "Testing data loaded ... Number of conversations:  155128\n",
      "Groomers Test:  1  Non-groomers Test:  1\n",
      "Conversation 1:  bugmail: [Bug 6978]   ...\n",
      "Conversation 1 start time:  15:24\n",
      "Conversation 1 label:  0\n"
     ]
    }
   ],
   "source": [
    "# Loading training data \n",
    "# Atributes : Conversation - Time start - Number of participants - Label (groomer/non-groomer)\n",
    "\n",
    "PATH =  \"Data/train.csv\"\n",
    "\n",
    "df  = pd.read_csv(PATH,encoding='utf-8',header=None)\n",
    "Xss_train,Xss_train_time,Ys_train = df[0],df[1],df[2]\n",
    "# posis_train = np.argwhere(Ys_train==1)\n",
    "# negis_train = np.argwhere(Ys_train==0) #had to modify argwhere to where\n",
    "posis_train = np.where(Ys_train==1)\n",
    "negis_train = np.where(Ys_train==0)\n",
    "print('\\033[91m')\n",
    "print(\"Training data loaded ... Number of conversations: \",len(Xss_train))\n",
    "print(\"Groomers Train: \",len(posis_train),\" Non-groomers Train: \", len(negis_train))\n",
    "print(\"Conversation 1: \",Xss_train[0][:20],\" ...\")\n",
    "print(\"Conversation 1 start time: \",Xss_train_time[0])\n",
    "print(\"Conversation 1 label: \",Ys_train[0])\n",
    "print(\"*\"*50)\n",
    "print('\\033[96m')\n",
    "# Loading testing data \n",
    "# Atributes : Conversation - Time start - Number of participants - Label (groomer/non-groomer)\n",
    "PATH =  \"Data/test.csv\"\n",
    "df  = pd.read_csv(PATH,encoding='utf-8',header=None)\n",
    "Xss_test,Xss_test_time,Ys_test = df[0],df[1],df[2]\n",
    "# posis_test = np.argwhere(Ys_test==1)\n",
    "# negis_test = np.argwhere(Ys_test==0) #had to modify argwhere to where\n",
    "posis_test = np.where(Ys_test==1)\n",
    "negis_test = np.where(Ys_test==0)\n",
    "print(\"Testing data loaded ... Number of conversations: \",len(Xss_test))\n",
    "print(\"Groomers Test: \",len(posis_test),\" Non-groomers Test: \", len(negis_test))\n",
    "print(\"Conversation 1: \",Xss_test[0][:20],\" ...\")\n",
    "print(\"Conversation 1 start time: \",Xss_test_time[0])\n",
    "print(\"Conversation 1 label: \",Ys_test[0])\n"
   ]
  },
  {
   "cell_type": "code",
   "execution_count": 68,
   "metadata": {},
   "outputs": [
    {
     "name": "stdout",
     "output_type": "stream",
     "text": [
      "Test Conversation :  30\n",
      "Label is:  0\n",
      "hey hi how are you whats going on \n"
     ]
    }
   ],
   "source": [
    "test_index = 30\n",
    "print(\"Test Conversation : \", test_index)\n",
    "print(\"Label is: \", Ys_test[test_index])\n",
    "print(Xss_test[test_index])"
   ]
  },
  {
   "cell_type": "markdown",
   "metadata": {},
   "source": [
    "# Loading % Interaction words per user BF."
   ]
  },
  {
   "cell_type": "code",
   "execution_count": 10,
   "metadata": {},
   "outputs": [
    {
     "name": "stdout",
     "output_type": "stream",
     "text": [
      "\u001b[91m\n",
      "Training data loaded ... Number of conversations:  66927\n",
      "In conversation 1 there are:  2.0  participants\n",
      "**************************************************\n",
      "\u001b[96m\n",
      "Testing data loaded ... Number of conversations:  155128\n",
      "In conversation 1 there are:  5.0  participants\n"
     ]
    }
   ],
   "source": [
    "# Loading pre-calculated \"Interaction words per user\" BF from training set\n",
    "# This BF indicates, the number of participants (top five) in a given conversation.\n",
    "\n",
    "Xss_train_participants = loading_pkl(\"dataSavings/train_participants_.pkl\")\n",
    "print('\\033[91m')\n",
    "print(\"Training data loaded ... Number of conversations: \",len(Xss_train_participants))\n",
    "print(\"In conversation 1 there are: \",Xss_train_participants[0][0],\" participants\")\n",
    "print(\"*\"*50)\n",
    "print('\\033[96m')\n",
    "##########\n",
    "Xss_test_participants = loading_pkl(\"dataSavings/participants_matrix.pkl\")\n",
    "# Choosing the last chunk witn 100% of the information; the rest chunks are used for\n",
    "# the simulation process (Online-stage)\n",
    "Xss_test_participants = Xss_test_participants[:,9]\n",
    "print(\"Testing data loaded ... Number of conversations: \",len(Xss_test_participants))\n",
    "print(\"In conversation 1 there are: \",Xss_test_participants[0],\" participants\")\n",
    "\n"
   ]
  },
  {
   "cell_type": "markdown",
   "metadata": {},
   "source": [
    "# Loading % Interaction words per user BF."
   ]
  },
  {
   "cell_type": "code",
   "execution_count": 12,
   "metadata": {},
   "outputs": [
    {
     "name": "stdout",
     "output_type": "stream",
     "text": [
      "\u001b[91m\n",
      "Training data loaded ... Number of conversations:  66927\n",
      "In conversation 1:\n",
      "  Participant  0  interacts  55.219780219780226 % of the conversation\n",
      "  Participant  1  interacts  44.78021978021978 % of the conversation\n",
      "  Participant  2  interacts  0.0 % of the conversation\n",
      "  Participant  3  interacts  0.0 % of the conversation\n",
      "  Participant  4  interacts  0.0 % of the conversation\n",
      "**************************************************\n",
      "\u001b[96m\n",
      "Testing data loaded ... Number of conversations:  155128\n",
      "In conversation 1:\n",
      "  Participant  0  interacts  37.83783783783784 % of the conversation\n",
      "  Participant  1  interacts  33.108108108108105 % of the conversation\n",
      "  Participant  2  interacts  12.837837837837837 % of the conversation\n",
      "  Participant  3  interacts  13.006756756756758 % of the conversation\n",
      "  Participant  4  interacts  3.209459459459459 % of the conversation\n"
     ]
    }
   ],
   "source": [
    "# Loading pre-calculated \"Interaction words per user\" BF from training set\n",
    "# This BF indicates, in percentage (%), how much each participant interacts in a given conversation.\n",
    "PATH =  \"dataBase/train_interaction_words_user.pkl\"\n",
    "matrix = loading_pkl(PATH)\n",
    "# Choosing the last chunk witn 100% of the information\n",
    "matrix = matrix\n",
    "Xss_train_int_user = np.reshape(matrix,(len(matrix),))\n",
    "print('\\033[91m')\n",
    "print(\"Training data loaded ... Number of conversations: \",len(Xss_train_int_user))\n",
    "print(\"In conversation 1:\")\n",
    "id = 0\n",
    "for i in(Xss_train_int_user[0]):\n",
    "    print(\"  Participant \",id,\" interacts \",i*100,\"% of the conversation\")\n",
    "    id += 1\n",
    "print(\"*\"*50)\n",
    "print('\\033[96m')\n",
    "##########\n",
    "PATH =  \"dataBase/test_early_interaction_words_user.pkl\"\n",
    "matrix = loading_pkl(PATH)\n",
    "\n",
    "# Choosing the last chunk witn 100% of the information; the rest chunks are used for\n",
    "# the simulation process (Online-stage)\n",
    "matrix = matrix[:,[9]]\n",
    "Xss_test_int_user = np.reshape(matrix,(len(matrix),))\n",
    "print(\"Testing data loaded ... Number of conversations: \",len(Xss_test_int_user))\n",
    "print(\"In conversation 1:\")\n",
    "id = 0\n",
    "for i in(Xss_test_int_user[0]):\n",
    "    print(\"  Participant \",id,\" interacts \",i*100,\"% of the conversation\")\n",
    "    id += 1\n"
   ]
  },
  {
   "cell_type": "markdown",
   "metadata": {},
   "source": [
    "# Pipeline : preprocessing (offline stage)"
   ]
  },
  {
   "cell_type": "markdown",
   "metadata": {},
   "source": [
    "## Importing somajo Tokenizer to remove noise from data; Oficial repository : https://github.com/tsproisl/SoMaJo¶"
   ]
  },
  {
   "cell_type": "code",
   "execution_count": 14,
   "metadata": {},
   "outputs": [
    {
     "name": "stdout",
     "output_type": "stream",
     "text": [
      "\u001b[91m\n",
      "You picked SOMAJO processing\n",
      "\u001b[96m\n",
      "['this', 'is', 'a', '?', 'testing', 'conversation', ':-*']\n"
     ]
    },
    {
     "data": {
      "text/plain": [
       "<function utils_functions.tokenizer_Somajo_vectorizer(document)>"
      ]
     },
     "execution_count": 14,
     "metadata": {},
     "output_type": "execute_result"
    }
   ],
   "source": [
    "nc = tokenizer_Somajo_vectorizer\n",
    "print('\\033[91m')\n",
    "print(\"You picked SOMAJO processing\")\n",
    "conversation = \"This is a ? testing &apos; conversation :-*\"\n",
    "tokens_clean_conversation = nc(conversation)\n",
    "print('\\033[96m')\n",
    "print(tokens_clean_conversation)\n",
    "nc"
   ]
  },
  {
   "cell_type": "code",
   "execution_count": 16,
   "metadata": {},
   "outputs": [
    {
     "name": "stdout",
     "output_type": "stream",
     "text": [
      "\u001b[91m\n",
      "Before:  Hola. hi. whats up? not a ton. you? same.  being lazy.  M or f? F. Ditto, I&apos;ve done absolutely nothing with my day besides watching stuff on Hulu. M here.  Just got home from weekend trip.  Tired. Oh, cool. Family thing? yeah. a &amp; l? Gotta love those. 17, Hawaii. and yourself? Uh oh.  older. 30 Been to Hawaii. whoops xD It&apos;s nice, isn&apos;t it? Yeah.  Always enjoy visiting. Which Island you on Oahu? married? i&apos;m assuming since you went on a &apos;family&apos; trip :p yeah. Just found this site a few days ago. Yeah, Oahu. Curious to the whole &quot;random thing&quot; Pretty crazy the individuals you meet, isn&apos;t it? It&apos;s been eye opening for sure. Yeah, I hear you. I&apos;m pretty open to meet/talk to anyone. But pretty clear what most are looking for on this site, it seems. Half the people that strike up a conversation only seem to be interested in more. . risque topics. What more do you expect though, ya know? Yep.  It&apos;s the internet. You seem to take it pretty well. Pardon? I just mean you seem to handle the obvious shennagans on here pretty well. harder for ladies on here for sure. Ah, yeah. That&apos;s what the wonderful &quot;disconnect&quot; button is for. LMAO, yes it is :) So..I said I was new to this, right? You mentioned it, yeah. I thought I&apos;d turn on cam.  After 10 mins, turned it off. Went back to text. Yeah, I haven&apos;t bothered touching that button. Sounds too risky to me. It&apos;s a mix of stuff, but one big difference. Cam = not such good conversation. It&apos;s the reason more individuals text than call these days. More response time, better things to say, suspense, etc. Makes sense. So, you been using this site very long? what interests you w/ it? You see quite a few characters. Gives me a laugh. Bet it does. I think it&apos;s quite funny, trying to figure out people. Well, even though I&apos;m glad to chat w/ ya &amp; you&apos;re quite...probably better I let you connect w/ someone a bit younger, eh? I s&apos;pose. It was a pleasure meeting you. Happy chatting! You too!  Be safe! bye \n",
      "\u001b[94m\n",
      "Train Documents, There are : 66914 :  ['hola', '.', 'hi', '.', 'whats', 'up', '?', 'not', 'a', 'ton', '.', 'you', '?', 'same', '.', 'being', 'lazy', '.', 'm', 'or', 'f', '?', 'f.', 'ditto', ',', 'i', 've', 'done', 'absolutely', 'nothing', 'with', 'my', 'day', 'besides', 'watching', 'stuff', 'on', 'hulu', '.', 'm', 'here', '.', 'just', 'got', 'home', 'from', 'weekend', 'trip', '.', 'tired', '.', 'oh', ',', 'cool', '.', 'family', 'thing', '?', 'yeah', '.', 'a', 'l', '?', 'got', 'ta', 'love', 'those', '.', '17', ',', 'hawaii', '.', 'and', 'yourself', '?', 'uh', 'oh', '.', 'older', '.', '30', 'been', 'to', 'hawaii', '.', 'whoops', 'xD', 'it', 's', 'nice', ',', 'isn', 't', 'it', '?', 'yeah', '.', 'always', 'enjoy', 'visiting', '.', 'which', 'island', 'you', 'on', 'oahu', '?', 'married', '?', 'i', 'm', 'assuming', 'since', 'you', 'went', 'on', 'a', 'family', 'trip', ':p', 'yeah', '.', 'just', 'found', 'this', 'site', 'a', 'few', 'days', 'ago', '.', 'yeah', ',', 'oahu', '.', 'curious', 'to', 'the', 'whole', 'random', 'thing', 'pretty', 'crazy', 'the', 'individuals', 'you', 'meet', ',', 'isn', 't', 'it', '?', 'it', 's', 'been', 'eye', 'opening', 'for', 'sure', '.', 'yeah', ',', 'i', 'hear', 'you', '.', 'i', 'm', 'pretty', 'open', 'to', 'meet', '/', 'talk', 'to', 'anyone', '.', 'but', 'pretty', 'clear', 'what', 'most', 'are', 'looking', 'for', 'on', 'this', 'site', ',', 'it', 'seems', '.', 'half', 'the', 'people', 'that', 'strike', 'up', 'a', 'conversation', 'only', 'seem', 'to', 'be', 'interested', 'in', 'more', '.', '.', 'risque', 'topics', '.', 'what', 'more', 'do', 'you', 'expect', 'though', ',', 'ya', 'know', '?', 'yep', '.', 'it', 's', 'the', 'internet', '.', 'you', 'seem', 'to', 'take', 'it', 'pretty', 'well', '.', 'pardon', '?', 'i', 'just', 'mean', 'you', 'seem', 'to', 'handle', 'the', 'obvious', 'shennagans', 'on', 'here', 'pretty', 'well', '.', 'harder', 'for', 'ladies', 'on', 'here', 'for', 'sure', '.', 'ah', ',', 'yeah', '.', 'that', 's', 'what', 'the', 'wonderful', 'disconnect', 'button', 'is', 'for', '.', 'lmao', ',', 'yes', 'it', 'is', ':)', 'so', '..', 'i', 'said', 'i', 'was', 'new', 'to', 'this', ',', 'right', '?', 'you', 'mentioned', 'it', ',', 'yeah', '.', 'i', 'thought', 'i', 'd', 'turn', 'on', 'cam', '.', 'after', '10', 'mins', ',', 'turned', 'it', 'off', '.', 'went', 'back', 'to', 'text', '.', 'yeah', ',', 'i', 'haven', 't', 'bothered', 'touching', 'that', 'button', '.', 'sounds', 'too', 'risky', 'to', 'me', '.', 'it', 's', 'a', 'mix', 'of', 'stuff', ',', 'but', 'one', 'big', 'difference', '.', 'cam', '=', 'not', 'such', 'good', 'conversation', '.', 'it', 's', 'the', 'reason', 'more', 'individuals', 'text', 'than', 'call', 'these', 'days', '.', 'more', 'response', 'time', ',', 'better', 'things', 'to', 'say', ',', 'suspense', ',', 'etc.', 'makes', 'sense', '.', 'so', ',', 'you', 'been', 'using', 'this', 'site', 'very', 'long', '?', 'what', 'interests', 'you', 'w/', 'it', '?', 'you', 'see', 'quite', 'a', 'few', 'characters', '.', 'gives', 'me', 'a', 'laugh', '.', 'bet', 'it', 'does', '.', 'i', 'think', 'it', 's', 'quite', 'funny', ',', 'trying', 'to', 'figure', 'out', 'people', '.', 'well', ',', 'even', 'though', 'i', 'm', 'glad', 'to', 'chat', 'w/', 'ya', 'you', 're', 'quite', '...', 'probably', 'better', 'i', 'let', 'you', 'connect', 'w/', 'someone', 'a', 'bit', 'younger', ',', 'eh', '?', 'i', 's', 'pose', '.', 'it', 'was', 'a', 'pleasure', 'meeting', 'you', '.', 'happy', 'chatting', '!', 'you', 'too', '!', 'be', 'safe', '!', 'bye']   66914\n",
      "\u001b[92m\n",
      "66914   66914   66914   66914   66914\n",
      "Time:  03:20  #Participants:  [2.]  %Inter:  [0.5521978 0.4478022 0.        0.        0.       ]\n",
      "Saving preprocessed data ... \n",
      "The preprocessed training data is already saved in folder 'dataSavings'\n",
      "CPU times: user 4min 6s, sys: 883 ms, total: 4min 6s\n",
      "Wall time: 4min 6s\n"
     ]
    }
   ],
   "source": [
    "%%time\n",
    "\"\"\"\n",
    "    Uncomment if this is the first execution of preprocessing training data\n",
    "\"\"\"\n",
    "\n",
    "\"\"\"\"\n",
    "print('\\033[91m')\n",
    "print(\"Before: \",Xss_train[0])\n",
    "\n",
    "doc_train,new_Y_train,X_train_time,X_train_participants,X_train_int_user = pre_processing_conversations(nc,Xss_train,Ys_train,Xss_train_time,Xss_train_participants,Xss_train_int_user)\n",
    "print('\\033[94m')\n",
    "\n",
    "print(\"Train Documents, There are :\",len(doc_train),\": \", doc_train[0],\" \",len(new_Y_train))\n",
    "print('\\033[92m')\n",
    "print(len(doc_train),\" \",len(new_Y_train),\" \",len(X_train_time),\" \",len(X_train_participants),\" \",len(X_train_int_user))\n",
    "print(\"Time: \",X_train_time[0],\" #Participants: \",X_train_participants[0],\" %Inter: \",X_train_int_user[0])\n",
    "print(\"Saving preprocessed data ... \")\n",
    "train_name = 'dataSavings/train_preprocessed.pkl' \n",
    "TRAIN = [doc_train,new_Y_train,X_train_time,X_train_participants,X_train_int_user]\n",
    "saving_pkl(TRAIN,train_name)\n",
    "\"\"\"\n",
    "\n",
    "\n",
    "print(\"The preprocessed training data is already saved in folder 'dataSavings'\")"
   ]
  },
  {
   "cell_type": "code",
   "execution_count": 17,
   "metadata": {},
   "outputs": [
    {
     "name": "stdout",
     "output_type": "stream",
     "text": [
      "The preprocessed testing data is already saved in folder 'dataSavings'\n",
      "CPU times: user 203 µs, sys: 219 µs, total: 422 µs\n",
      "Wall time: 435 µs\n"
     ]
    }
   ],
   "source": [
    "%%time\n",
    "\"\"\"\n",
    "    Uncomment if this is the first execution of preprocessing testing data\n",
    "\"\"\"\n",
    "\n",
    "\"\"\"\n",
    "print('\\033[91m')\n",
    "print(\"Before: \",Xss_test[0])\n",
    "doc_test,new_Y_test,X_test_time,X_test_participants,X_test_int_user = pre_processing_conversations(nc,Xss_test,Ys_test,Xss_test_time,Xss_test_participants,Xss_test_int_user)\n",
    "print(\"Test Documents, There are :\",len(doc_test),\": \", doc_test[0],\" \",len(new_Y_test))\n",
    "print('\\033[92m')\n",
    "print(len(doc_test),\" \",len(new_Y_test),\" \",len(X_test_time),\" \",len(X_test_participants),\" \",len(X_test_int_user))\n",
    "print(\"Time: \",X_test_time[0],\" #Participants: \",X_test_participants[0],\" %Inter: \",X_test_int_user[0])\n",
    "print(\"Saving preprocessed data ... \")\n",
    "test_name = 'dataSavings/test_preprocessed.pkl'\n",
    "TEST = [doc_test,new_Y_test,X_test_time,X_test_participants,X_test_int_user]\n",
    "saving_pkl(TEST,test_name)\n",
    "\"\"\"\n",
    "print(\"The preprocessed testing data is already saved in folder 'dataSavings'\")"
   ]
  },
  {
   "cell_type": "code",
   "execution_count": null,
   "metadata": {},
   "outputs": [],
   "source": [
    "#new data preprocessing\n",
    "def new_data_preprocessing(data):\n",
    "    tokens_clean_conversation = nc(data)\n",
    "    #print(tokens_clean_conversation)\n",
    "    if len (tokens_clean_conversation) == 0:\n",
    "        return \"cannot be processed\"\n",
    "    else: \n",
    "        '''Sexual topic words'''\n",
    "        print(\"Calculating: Sexual topic words...\")\n",
    "        sexual_partial = calculating_sexual_words(sexual_words,tokens_clean_conversation)\n",
    "        #print(\"  \",sexual_partial.shape)\n",
    "        print(sum(sexual_partial))\n",
    "\n",
    "        '''Emoticons'''\n",
    "        print(\"Calculating: Emoticons ...\")\n",
    "        emoticon_partial = calculating_emoticons_faster(emoticons_set,tokens_clean_conversation )\n",
    "        #print(\"  \",emoticon_partial.shape)\n",
    "        print(sum(emoticon_partial))\n",
    "        \n",
    "        '''Correctly spelled words '''\n",
    "        print(\"Calculating: Correctly spelled words ...\")\n",
    "        csw_partial = calculating_CSW(tokens_clean_conversation)\n",
    "        #print(\"  \",csw_partial.shape)\n",
    "        print(sum(csw_partial))\n",
    "        #print(csw_partial)\n",
    "        \n",
    "        '''Time when a conversation starts''' \n",
    "        #24 hour format??\n",
    "        print(\"Calculating: Time when a conversation starts ...\")\n",
    "        time_feature = np.zeros((2))\n",
    "        matches = find_dates(data)\n",
    "        a=next(matches).time() #add \"if empty\"\n",
    "        time_feature[0],time_feature[1] = a.hour, a.minute\n",
    "        print(time_feature)\n",
    "        \n",
    "        '''Depeche emotional markers BF'''\n",
    "        print(\"Calculating: Depeche emotional markers BF ...\")\n",
    "        de_partial = calculating_emotional_markers(depeche_emotions,tokens_clean_conversation,8)\n",
    "        de_partial = de_partial[:, [1,2,6,7]]\n",
    "        de_partial = np.sum(de_partial,axis=0) #summing along each column\n",
    "        #print(\"  \",de_partial.shape)\n",
    "        print(de_partial)\n",
    "        \n",
    "        '''NRC emotional markers BF'''\n",
    "        print(\"Calculating: NRC emotional markers BF ...\")\n",
    "        nrc_partial = calculating_emotional_markers(nrc_emotions,tokens_clean_conversation,10)\n",
    "        nrc_partial = nrc_partial[:, [0,1,4,6,7,8]]\n",
    "        nrc_partial = np.sum(nrc_partial,axis=0)\n",
    "        #print(\"  \",nrc_partial.shape)\n",
    "        print(nrc_partial)\n",
    "        \n",
    "        "
   ]
  },
  {
   "cell_type": "markdown",
   "metadata": {},
   "source": [
    "# Loading already preprocessed data"
   ]
  },
  {
   "cell_type": "code",
   "execution_count": 18,
   "metadata": {},
   "outputs": [
    {
     "name": "stdout",
     "output_type": "stream",
     "text": [
      "Empty conversations were removed in preprocessing process\n",
      "Before precessing Train Groomers:  1  After:  2015 Lost:  -2014\n",
      "Before precessing Test Groomers:  1  After:  3724 Lost:  -3723\n"
     ]
    }
   ],
   "source": [
    "# Training files\n",
    "\n",
    "train_name = 'dataSavings/train_preprocessed.pkl' # Not symbols\n",
    "TRAIN = loading_pkl(train_name)\n",
    "doc_train,Y_train,X_train_time,X_train_participants,X_train_int_user  = TRAIN[0],TRAIN[1],TRAIN[2],TRAIN[3],TRAIN[4]\n",
    "Y_train = np.asarray(Y_train)\n",
    "X_train_participants = np.asarray(X_train_participants)\n",
    "X_train_int_user = np.asarray(X_train_int_user)\n",
    "posi_train = np.argwhere(Y_train==1)\n",
    "nega_train = np.argwhere(Y_train==0)\n",
    "\n",
    "\n",
    "# Testing files\n",
    "test_name = 'dataSavings/test_preprocessed.pkl' # Not symbols\n",
    "TEST = loading_pkl(test_name)\n",
    "doc_test,Y_test,X_test_time,X_test_participants,X_test_int_user = TEST[0],TEST[1],TEST[2],TEST[3],TEST[4]\n",
    "Y_test = np.asarray(Y_test)\n",
    "X_test_participants = np.asarray(X_test_participants)\n",
    "X_test_participants = np.expand_dims(X_test_participants, axis=1)\n",
    "X_test_int_user = np.asarray(X_test_int_user)\n",
    "posi_test  = np.argwhere(Y_test==1)\n",
    "nega_test  = np.argwhere(Y_test==0)\n",
    "\n",
    "print(\"Empty conversations were removed in preprocessing process\")\n",
    "print(\"Before precessing Train Groomers: \",len(posis_train), \" After: \",len(posi_train), \"Lost: \",len(posis_train)-len(posi_train))\n",
    "print(\"Before precessing Test Groomers: \",len(posis_test), \" After: \",len(posi_test), \"Lost: \",len(posis_test)-len(posi_test))\n"
   ]
  },
  {
   "cell_type": "markdown",
   "metadata": {},
   "source": [
    "# Starting with the PSR ++ method"
   ]
  },
  {
   "cell_type": "code",
   "execution_count": 19,
   "metadata": {},
   "outputs": [
    {
     "name": "stdout",
     "output_type": "stream",
     "text": [
      "Vocabulary:  45814\n",
      "CPU times: user 640 ms, sys: 8.06 ms, total: 648 ms\n",
      "Wall time: 648 ms\n"
     ]
    }
   ],
   "source": [
    "%%time\n",
    "vocabulary = calculating_vocabulary(doc_train)\n",
    "print(\"Vocabulary: \",len(vocabulary))"
   ]
  },
  {
   "cell_type": "code",
   "execution_count": 20,
   "metadata": {},
   "outputs": [
    {
     "name": "stdout",
     "output_type": "stream",
     "text": [
      "Number of documents with token :-*:  415\n",
      "CPU times: user 10.5 ms, sys: 6.62 ms, total: 17.1 ms\n",
      "Wall time: 17.7 ms\n"
     ]
    }
   ],
   "source": [
    "%%time\n",
    "\"\"\"\n",
    "    Uncomment if this is the first execution of DF calculation process\n",
    "\"\"\"\n",
    "\"\"\"\n",
    "DF = calculated_df(doc_train,vocabulary)\n",
    "saving_pkl(DF,\"dataSavings/df\")\n",
    "\"\"\"\n",
    "DF = loading_pkl(\"dataSavings/df\")\n",
    "print(\"Number of documents with token :-*: \",DF[\":-*\"])"
   ]
  },
  {
   "cell_type": "code",
   "execution_count": 21,
   "metadata": {},
   "outputs": [
    {
     "name": "stdout",
     "output_type": "stream",
     "text": [
      "45845\n",
      "CPU times: user 50.5 ms, sys: 8.25 ms, total: 58.8 ms\n",
      "Wall time: 59.6 ms\n"
     ]
    }
   ],
   "source": [
    "%%time\n",
    "# PSR weights files\n",
    "\"\"\"\n",
    "    Uncomment if this is the first execution of PSR weights calculation process\n",
    "\"\"\"\n",
    "\"\"\"\n",
    "psr_weights = PSR_weight_schema(doc_train,Y_train,vocabulary,DF)\n",
    "saving_pkl(psr_weights,'dataSavings/psr.pkl')\n",
    "\"\"\"\n",
    "psr_weights = loading_pkl('dataSavings/psr.pkl')\n",
    "print(len(psr_weights))"
   ]
  },
  {
   "cell_type": "code",
   "execution_count": 70,
   "metadata": {},
   "outputs": [
    {
     "name": "stdout",
     "output_type": "stream",
     "text": [
      "45814\n"
     ]
    }
   ],
   "source": [
    "print(len(vocabulary))"
   ]
  },
  {
   "cell_type": "markdown",
   "metadata": {},
   "source": [
    "# Performing the PSR++ method with the training data\n",
    "## The psr++ method contain fundamental modifications to the original PSR method"
   ]
  },
  {
   "cell_type": "code",
   "execution_count": 22,
   "metadata": {},
   "outputs": [
    {
     "name": "stdout",
     "output_type": "stream",
     "text": [
      "\u001b[91m\n",
      "(66914, 2)\n",
      "Training set ...\n",
      "Now each training document is represent in a vector space of size 2 (groomer and non-groomer)\n",
      "CPU times: user 2.95 s, sys: 35 ms, total: 2.99 s\n",
      "Wall time: 2.97 s\n"
     ]
    }
   ],
   "source": [
    "%%time\n",
    "DR = PSR_plus_document_representation(doc_train,psr_weights)\n",
    "print('\\033[91m')\n",
    "DR = np.reshape(DR,(len(DR),2))\n",
    "print(DR.shape)\n",
    "print(\"Training set ...\")\n",
    "print(\"Now each training document is represent in a vector space of size 2 (groomer and non-groomer)\")\n",
    "#plotting(DR,Y_train)"
   ]
  },
  {
   "cell_type": "code",
   "execution_count": 23,
   "metadata": {},
   "outputs": [
    {
     "name": "stdout",
     "output_type": "stream",
     "text": [
      "\u001b[94m\n",
      "(155101, 2)\n",
      "Testing set ...\n",
      "Now each testing document is represent in a vector space of size 2 (groomer and non-groomer)\n",
      "CPU times: user 6.96 s, sys: 77.4 ms, total: 7.03 s\n",
      "Wall time: 6.99 s\n"
     ]
    }
   ],
   "source": [
    "%%time\n",
    "DRT = PSR_plus_document_representation(doc_test,psr_weights)\n",
    "print('\\033[94m')\n",
    "DRT = np.reshape(DRT,(len(DRT),2))\n",
    "print(DRT.shape)\n",
    "\n",
    "print(\"Testing set ...\")\n",
    "print(\"Now each testing document is represent in a vector space of size 2 (groomer and non-groomer)\")\n",
    "#plotting(DRT,Y_test)"
   ]
  },
  {
   "cell_type": "markdown",
   "metadata": {},
   "source": [
    "# Pipeline : Calculating proposed Behavioral Features"
   ]
  },
  {
   "cell_type": "markdown",
   "metadata": {},
   "source": [
    "# Time when a conversation starts BF"
   ]
  },
  {
   "cell_type": "code",
   "execution_count": 24,
   "metadata": {},
   "outputs": [
    {
     "name": "stdout",
     "output_type": "stream",
     "text": [
      "Loading pre-saved BF from 'dataSavings' folder ... \n"
     ]
    }
   ],
   "source": [
    "\"\"\"\n",
    "    Uncomment if this is the first execution of Time when a conversation starts BF\n",
    "\"\"\"\n",
    "\n",
    "\n",
    "\"\"\"\n",
    "print(\"Time when a conversation starts BF\")\n",
    "n_features = 2 # Hours (HH) : Minutes (MM)\n",
    "time_bf_train = calculating_time(X_train_time,n_features)\n",
    "time_bf_test = calculating_time(X_test_time,n_features)\n",
    "print(\"time_bf_train: \",time_bf_train.shape,\" time_bf_test: \",time_bf_test.shape)\n",
    "print('\\033[91m')\n",
    "print(\"First time registered in the training set: \",X_train_time[0])\n",
    "print(\"First time registered in the training set after normalization: \",time_bf_train[0])\n",
    "print('\\033[96m')\n",
    "print(\"First time registered in the testing set: \",X_test_time[0])\n",
    "print(\"First time registered in the testing set after normalization: \",time_bf_test[0])\n",
    "# Saving calculations\n",
    "time_bf = (time_bf_train,time_bf_test)\n",
    "saving_pkl(time_bf,\"dataSavings/time_bf.pkl\")\n",
    "\"\"\"\n",
    "# Loading calculations\n",
    "time_bf = loading_pkl(\"dataSavings/time_bf.pkl\")\n",
    "\n",
    "print(\"Loading pre-saved BF from 'dataSavings' folder ... \")"
   ]
  },
  {
   "cell_type": "markdown",
   "metadata": {},
   "source": [
    "# Correctly spelled words BF"
   ]
  },
  {
   "cell_type": "code",
   "execution_count": 25,
   "metadata": {},
   "outputs": [
    {
     "name": "stdout",
     "output_type": "stream",
     "text": [
      "Loading pre-saved BF from 'dataSavings' folder ... \n"
     ]
    }
   ],
   "source": [
    "\"\"\"\n",
    "    Uncomment if this is the first execution of Correctly spelled words BF\n",
    "\"\"\"\n",
    "\n",
    "\"\"\"\n",
    "print(\"Correctly spelled words BF\")\n",
    "train_csw = calculating_CSW(doc_train)\n",
    "test_csw = calculating_CSW(doc_test)\n",
    "print(\"train_tw: \",train_csw.shape,\" test_tw: \",test_csw.shape)\n",
    "print('\\033[91m')\n",
    "print(\"% of Correctly spelled words in training conversation 1) : \",train_csw[0][0]*100)\n",
    "print('\\033[96m')\n",
    "print(\"% of Correctly spelled words in testing conversation 1) : \",test_csw[0][0]*100)\n",
    "# Saving calculations\n",
    "correctly_bf = (train_csw,test_csw)\n",
    "saving_pkl(correctly_bf,\"dataSavings/correctly_bf.pkl\")\n",
    "\"\"\"\n",
    "# Loading calculations\n",
    "correctly_bf = loading_pkl(\"dataSavings/correctly_bf.pkl\")\n",
    "print(\"Loading pre-saved BF from 'dataSavings' folder ... \")"
   ]
  },
  {
   "cell_type": "markdown",
   "metadata": {},
   "source": [
    "# Sexual topic words BF "
   ]
  },
  {
   "cell_type": "code",
   "execution_count": 26,
   "metadata": {},
   "outputs": [
    {
     "name": "stdout",
     "output_type": "stream",
     "text": [
      "Loading pre-calculated extended list of sexual words with fastText library\n",
      "Sexual words extended list:  506\n",
      "Loading pre-saved BF from 'dataSavings' folder ... \n"
     ]
    }
   ],
   "source": [
    "print(\"Loading pre-calculated extended list of sexual words with fastText library\")\n",
    "sexual_words = loading_pkl(\"dataBase/augmented_sexual_words.pkl\")\n",
    "print(\"Sexual words extended list: \",len(sexual_words))\n",
    "\n",
    "\"\"\"\n",
    "    Uncomment if this is the first execution of Sexual topic words BF\n",
    "\"\"\"\n",
    "\n",
    "\"\"\"\n",
    "sexual_train = calculating_sexual_words(sexual_words, doc_train)\n",
    "sexual_test = calculating_sexual_words(sexual_words, doc_test)\n",
    "print(\"sexual_train: \",sexual_train.shape,\" sexual_test: \",sexual_test.shape)\n",
    "print('\\033[91m')\n",
    "print(\"% of Sexual topic words in training conversation 1) : \",sexual_train[0][0]*100)\n",
    "print('\\033[96m')\n",
    "print(\"% of Sexual topic words in testing conversation 1) : \",sexual_test[0][0]*100)\n",
    "# Saving calculations\n",
    "sexual_bf = (sexual_train,sexual_test)\n",
    "saving_pkl(sexual_bf,\"dataSavings/sexual_bf.pkl\")\n",
    "\"\"\"\n",
    "# Loading calculations\n",
    "sexual_bf = loading_pkl(\"dataSavings/sexual_bf.pkl\")\n",
    "print(\"Loading pre-saved BF from 'dataSavings' folder ... \")"
   ]
  },
  {
   "cell_type": "markdown",
   "metadata": {},
   "source": [
    "# NRC sentiment and emotional markers BF"
   ]
  },
  {
   "cell_type": "code",
   "execution_count": 27,
   "metadata": {},
   "outputs": [
    {
     "name": "stdout",
     "output_type": "stream",
     "text": [
      "NRC emotional markers\n",
      "Loading pre-saved BF from 'dataSavings' folder ... \n"
     ]
    }
   ],
   "source": [
    "# Loading NRC lexicon\n",
    "print(\"NRC emotional markers\")\n",
    "nrc_emotions = loading_pkl(\"dataBase/emotions_nrc.pkl\")    \n",
    "\n",
    "\"\"\"\n",
    "    Uncomment if this is the first execution of NRC emotional markers BF\n",
    "\"\"\" \n",
    "\n",
    "\"\"\"\n",
    "n_emo = 10 # NRC lexicon has 10 (8 emotions + 2 sentiments)\n",
    "nrc_emo_train = calculating_emotional_markers(nrc_emotions, doc_train,n_emo)\n",
    "nrc_emo_test = calculating_emotional_markers(nrc_emotions, doc_test,n_emo)\n",
    "# Choosing the most significative ones\n",
    "nrc_emo_train = nrc_emo_train[:, [0,1,4,6,7,8]]\n",
    "nrc_emo_test = nrc_emo_test[:, [0,1,4,6,7,8]]\n",
    "print(\"nrc_emo_train: \",nrc_emo_train.shape,\" nrc_emo_test\",nrc_emo_test.shape)\n",
    "print('\\033[91m')\n",
    "print(\"% of Anticipation in training conversation 1) : \",nrc_emo_train[0][0]*100)\n",
    "print('\\033[96m')\n",
    "print(\"% of Anticipation in testing conversation 1) : \",nrc_emo_test[0][0]*100)\n",
    "# Saving calculations\n",
    "nrc_bf = (nrc_emo_train,nrc_emo_test)\n",
    "saving_pkl(nrc_bf,\"dataSavings/nrc_bf.pkl\")\n",
    "\"\"\"\n",
    "\n",
    "# Loading calculations\n",
    "nrc_bf = loading_pkl(\"dataSavings/nrc_bf.pkl\")\n",
    "print(\"Loading pre-saved BF from 'dataSavings' folder ... \")"
   ]
  },
  {
   "cell_type": "markdown",
   "metadata": {},
   "source": [
    "# Depeche emotional markers BF"
   ]
  },
  {
   "cell_type": "code",
   "execution_count": 28,
   "metadata": {},
   "outputs": [
    {
     "name": "stdout",
     "output_type": "stream",
     "text": [
      "Depeche emotional markers\n",
      "Loading pre-saved BF from 'dataSavings' folder ... \n"
     ]
    }
   ],
   "source": [
    "# Loading Depeche lexicon\n",
    "print(\"Depeche emotional markers\")\n",
    "depeche_emotions_lexicon = loading_pkl(\"dataBase/emotions_depeche.pkl\" )\n",
    "\n",
    "# Converting vector of weights in binary terms (1/0), max values turns 1, otthers 0\n",
    "depeche_emotions = processing_depeche_lexicon(depeche_emotions_lexicon)\n",
    "\n",
    "\"\"\"\n",
    "    Uncomment if this is the first execution of Depeche emotional markers BF\n",
    "\"\"\"\n",
    "\n",
    "\"\"\"\n",
    "n_emo = 8 # Depeche lexicon has 8 emotions\n",
    "de_emo_train = calculating_emotional_markers(depeche_emotions, doc_train,n_emo)\n",
    "de_emo_test = calculating_emotional_markers(depeche_emotions, doc_test,n_emo)\n",
    "\n",
    "\n",
    "# Choosing the most significative ones\n",
    "de_emo_train = de_emo_train[:, [1,2,6,7]] \n",
    "de_emo_test = de_emo_test[:, [1,2,6,7]] \n",
    "print(\"dee_emo_train :\",de_emo_train.shape,\" dee_emo_test:\",de_emo_test.shape)\n",
    "print('\\033[91m')\n",
    "print(\"% of Inspired in training conversation 1) : \",de_emo_train[0][2]*100)\n",
    "print('\\033[96m')\n",
    "print(\"% of Inspired in testing conversation 1) : \",de_emo_test[0][2]*100)\n",
    "# Saving calculations\n",
    "depeche_bf = (de_emo_train,de_emo_test)\n",
    "saving_pkl(depeche_bf,\"dataSavings/depeche_bf.pkl\")\n",
    "\"\"\"\n",
    "\n",
    "# Loading calculations\n",
    "depeche_bf = loading_pkl(\"dataSavings/depeche_bf.pkl\")\n",
    "print(\"Loading pre-saved BF from 'dataSavings' folder ... \")"
   ]
  },
  {
   "cell_type": "markdown",
   "metadata": {},
   "source": [
    "# Emoticons BF"
   ]
  },
  {
   "cell_type": "code",
   "execution_count": 29,
   "metadata": {},
   "outputs": [
    {
     "name": "stdout",
     "output_type": "stream",
     "text": [
      "Emoticons\n",
      "Loading pre-saved BF from 'dataSavings' folder ... \n"
     ]
    }
   ],
   "source": [
    "\"\"\"\n",
    "    Uncomment if this is the first execution of Emoticons BF\n",
    "\"\"\"\n",
    "\n",
    "print(\"Emoticons\")\n",
    "\n",
    "\"\"\"\n",
    "emoticons_list = list()\n",
    "emoticon_train,emoticons_list = calculating_emoticons_set(doc_train,emoticons_list)\n",
    "print(\"emoticons_list: \",len(emoticons_list))\n",
    "emoticon_test,emoticons_list = calculating_emoticons_set(doc_test,emoticons_list)\n",
    "print(\"emoticons_list: \",len(emoticons_list))\n",
    "emoticons_set = set(emoticons_list)\n",
    "print(\"emoticons_set: \",len(emoticons_set))\n",
    "print(\"emoticon_train :\",emoticon_train.shape,\" emoticon_test:\",emoticon_test.shape)\n",
    "print('\\033[91m')\n",
    "print(\"% of Emoticons in training conversation 1) : \",emoticon_train[0][0]*100)\n",
    "print('\\033[96m')\n",
    "print(\"% of Emoticons in testing conversation 1) : \",emoticon_test[0][0]*100)\n",
    "# Saving calculations\n",
    "emoticons_bf = (emoticon_train,emoticon_test)\n",
    "saving_pkl(emoticons_bf,\"dataSavings/emoticons_bf.pkl\")\n",
    "saving_pkl(emoticons_set,\"dataBase/emoticons_set.pkl\")\n",
    "\"\"\"\n",
    "\n",
    "# Loading calculations\n",
    "emoticons_bf = loading_pkl(\"dataSavings/emoticons_bf.pkl\")\n",
    "emoticons_set = loading_pkl(\"dataBase/emoticons_set.pkl\")\n",
    "print(\"Loading pre-saved BF from 'dataSavings' folder ... \")\n"
   ]
  },
  {
   "cell_type": "markdown",
   "metadata": {},
   "source": [
    "# Saving all the proposed BFs in a list"
   ]
  },
  {
   "cell_type": "code",
   "execution_count": 30,
   "metadata": {},
   "outputs": [
    {
     "name": "stdout",
     "output_type": "stream",
     "text": [
      "There are:  8  Behavioral Features\n"
     ]
    }
   ],
   "source": [
    "# Obtaing the pre-calculated BF : Number of participants BF and Interections words per user BF\n",
    "participants_bf = (X_train_participants,X_test_participants)\n",
    "interactions_bf = (X_train_int_user,X_test_int_user)\n",
    "BFS = [participants_bf,interactions_bf,depeche_bf,emoticons_bf,correctly_bf,time_bf,sexual_bf,nrc_bf]\n",
    "print(\"There are: \",len(BFS),\" Behavioral Features\")"
   ]
  },
  {
   "cell_type": "markdown",
   "metadata": {},
   "source": [
    "# Performing BF-PSR method : Training model (offline-stage)"
   ]
  },
  {
   "cell_type": "code",
   "execution_count": 31,
   "metadata": {},
   "outputs": [
    {
     "name": "stdout",
     "output_type": "stream",
     "text": [
      "\u001b[91m\n",
      "Performing BF-PSR method\n",
      "0 ) Stacking  Number of participants  BF of shape:  (66914, 1)\n",
      "1 ) Stacking  Interaction words per user  BF of shape:  (66914, 5)\n",
      "2 ) Stacking  Depeche emotions  BF of shape:  (66914, 4)\n",
      "3 ) Stacking  Emoticons  BF of shape:  (66914, 1)\n",
      "4 ) Stacking  Correctly spelled words  BF of shape:  (66914, 1)\n",
      "5 ) Stacking  Time when a conversation starts  BF of shape:  (66914, 2)\n",
      "6 ) Stacking  Sexual topic words  BF of shape:  (66914, 1)\n",
      "7 ) Stacking  NRC emotions  BF of shape:  (66914, 6)\n",
      "The final PF-PSR vector is of shape:  (66914, 23)   (155101, 23)\n",
      "\u001b[94m\n",
      "F1 mesure of the positive class:  73.08 % with 100% of the information\n"
     ]
    }
   ],
   "source": [
    "print('\\033[91m')\n",
    "print(\"Performing BF-PSR method\")\n",
    "#labels_BFS = [\"Time when a conversation starts\",\"Correctly spelled words\",\"Sexual topic words\",\"NRC emotions\",\"Depeche emotions\",\"Emoticons\",\"Number of participants\",\"Interaction words per user\"]\n",
    "labels_BFS = [\"Number of participants\",\"Interaction words per user\",\"Depeche emotions\",\"Emoticons\",\"Correctly spelled words\",\"Time when a conversation starts\",\"Sexual topic words\",\"NRC emotions\",]\n",
    "f1_g, model = BF_PSR(DR,DRT,Y_train,Y_test,BFS,labels_BFS,8)\n",
    "print('\\033[94m')\n",
    "print(\"F1 mesure of the positive class: \",f1_g * 100, \"% with 100% of the information\")"
   ]
  },
  {
   "cell_type": "markdown",
   "metadata": {},
   "source": [
    "# Pipeline: (Online-stage)\n",
    "## Perfoming predictions with partial data : Simulating uncoming messages"
   ]
  },
  {
   "cell_type": "code",
   "execution_count": 35,
   "metadata": {},
   "outputs": [
    {
     "name": "stdout",
     "output_type": "stream",
     "text": [
      "----------------------  0.1  ----------------------\n",
      "(155128,)\n",
      "(155128,)   (155128, 1)   (155128, 1)\n",
      "Test Documents, There are : 124017   124017\n",
      "\u001b[94m\n",
      "----------------------  0.2  ----------------------\n",
      "(155128,)\n",
      "(155128,)   (155128, 1)   (155128, 1)\n",
      "Test Documents, There are : 151732   151732\n",
      "\u001b[94m\n",
      "----------------------  0.3  ----------------------\n",
      "(155128,)\n",
      "(155128,)   (155128, 1)   (155128, 1)\n",
      "Test Documents, There are : 153304   153304\n",
      "\u001b[94m\n",
      "----------------------  0.4  ----------------------\n",
      "(155128,)\n",
      "(155128,)   (155128, 1)   (155128, 1)\n",
      "Test Documents, There are : 153306   153306\n",
      "\u001b[94m\n",
      "----------------------  0.5  ----------------------\n",
      "(155128,)\n",
      "(155128,)   (155128, 1)   (155128, 1)\n",
      "Test Documents, There are : 153310   153310\n",
      "\u001b[94m\n",
      "----------------------  0.6  ----------------------\n",
      "(155128,)\n",
      "(155128,)   (155128, 1)   (155128, 1)\n",
      "Test Documents, There are : 155101   155101\n",
      "\u001b[94m\n",
      "----------------------  0.7  ----------------------\n",
      "(155128,)\n",
      "(155128,)   (155128, 1)   (155128, 1)\n",
      "Test Documents, There are : 155101   155101\n",
      "\u001b[94m\n",
      "----------------------  0.8  ----------------------\n",
      "(155128,)\n",
      "(155128,)   (155128, 1)   (155128, 1)\n",
      "Test Documents, There are : 155101   155101\n",
      "\u001b[94m\n",
      "----------------------  0.9  ----------------------\n",
      "(155128,)\n",
      "(155128,)   (155128, 1)   (155128, 1)\n",
      "Test Documents, There are : 155101   155101\n",
      "\u001b[94m\n",
      "----------------------  1  ----------------------\n",
      "(155128,)\n",
      "(155128,)   (155128, 1)   (155128, 1)\n",
      "Test Documents, There are : 155101   155101\n",
      "\u001b[94m\n",
      "Check if the folder /pre_processing_chunks is empty, if it is: compile the comment line, it may take a while\n",
      "CPU times: user 1h 5min 1s, sys: 1min 14s, total: 1h 6min 15s\n",
      "Wall time: 1h 6min 28s\n"
     ]
    }
   ],
   "source": [
    "%%time\n",
    "\"\"\"\n",
    "    Uncomment if pre_processing_chunks folder is empty, it may take a while ...\n",
    "\"\"\"\n",
    "retains = [0.1,0.2,0.3,0.4,0.5,0.6,0.7,0.8,0.9,1]\n",
    "# pre_processing_chunks(nc,retains,Ys_test,Xss_test_time)\n",
    "print(\"Check if the folder /pre_processing_chunks is empty, if it is: compile the comment line, it may take a while\")"
   ]
  },
  {
   "cell_type": "code",
   "execution_count": 36,
   "metadata": {},
   "outputs": [],
   "source": [
    "def simulation(model,percentages,labels_BF,num_BF):\n",
    "    f1_l = []\n",
    "    for percentage in range(len(percentages)):\n",
    "        # Obtaining x% of the conversations already preprocessed \n",
    "        print(\"Obtaining preprocessed conversations with: \",(percentage+1) * 10, \"% of information available\")\n",
    "        chunk_information = loading_pkl(\"Pre_pro_chunks/chunk_preprocessed_\"+str(percentage))\n",
    "        doc_partial,Y_partial,X_time_partial,X_participants_partial,X_int_user_partial  = chunk_information\n",
    "        Y_partial = np.asarray(Y_partial)\n",
    "        print(\"Therea are \",len(doc_partial),\" conversations with \",percentages[percentage] * 100,\" % of information available\")\n",
    "        \n",
    "        # Obtaining the partial profiles with the PSR++ method\n",
    "        DRT_partial = PSR_plus_document_representation(doc_partial,psr_weights)\n",
    "        print(\"  \",DRT_partial.shape)\n",
    "        \n",
    "        # Calculating proposed BF with partial information\n",
    "        '''Time when a conversation starts BF'''\n",
    "        print(\"Calculating: Time when a conversation starts BF ...\")\n",
    "        time_partial = calculating_time(X_time_partial,2)\n",
    "        print(\"  \",time_partial.shape)\n",
    "        \n",
    "        '''Correctly spelled words BF'''\n",
    "        print(\"Calculating: Correctly spelled words BF ...\")\n",
    "        csw_partial = calculating_CSW(doc_partial)\n",
    "        print(\"  \",csw_partial.shape)\n",
    "        \n",
    "        '''Sexual topic words BF'''\n",
    "        print(\"Calculating: Sexual topic words BF ...\")\n",
    "        sexual_partial = calculating_sexual_words(sexual_words, doc_partial)\n",
    "        print(\"  \",sexual_partial.shape)\n",
    "        \n",
    "        '''NRC emotional markers BF'''\n",
    "        print(\"Calculating: NRC emotional markers BF ...\")\n",
    "        nrc_partial = calculating_emotional_markers(nrc_emotions, doc_partial,10)\n",
    "        nrc_partial = nrc_partial[:, [0,1,4,6,7,8]]\n",
    "        print(\"  \",nrc_partial.shape)\n",
    "\n",
    "        '''Depeche emotional markers BF'''\n",
    "        print(\"Calculating: Depeche emotional markers BF ...\")\n",
    "        de_partial = calculating_emotional_markers(depeche_emotions, doc_partial,8)\n",
    "        de_partial = de_partial[:, [1,2,6,7]]\n",
    "        print(\"  \",de_partial.shape)\n",
    "        \n",
    "        '''Emoticons BF'''\n",
    "        print(\"Calculating: Emoticons BF ...\")\n",
    "        emoticon_partial = calculating_emoticons_faster(emoticons_set, doc_partial)\n",
    "        print(\"  \",emoticon_partial.shape)\n",
    "        \n",
    "        '''Number of participants BF'''\n",
    "        print(\"Calculating: Number of participants BF ...\")\n",
    "        participants_partial = np.asarray(X_participants_partial)\n",
    "        print(\"  \",participants_partial.shape)\n",
    "\n",
    "        '''% Word interactions per user BF'''\n",
    "        print(\"Calculating: Word interactions per user BF ...\")\n",
    "        int_user_partial = column_extract(X_int_user_partial)\n",
    "        print(\"  \",int_user_partial.shape)\n",
    "        \n",
    "        '''Putting toguether all proposed BFs'''\n",
    "        BFS = [participants_partial,int_user_partial,de_partial,emoticon_partial,csw_partial,time_partial,sexual_partial,nrc_partial]\n",
    "        \n",
    "        '''Performing early predictions with partial information'''\n",
    "        f1_g = BF_PSR_predictions(model,DRT_partial,Y_partial,BFS,labels_BF,num_BF)\n",
    "        f1_l.append(f1_g)\n",
    "        print(\"F1 groomer: \",f1_g)\n",
    "        print(\"*\"*50)\n",
    "\n",
    "    return f1_l\n",
    "        "
   ]
  },
  {
   "cell_type": "code",
   "execution_count": 41,
   "metadata": {
    "scrolled": true
   },
   "outputs": [
    {
     "name": "stderr",
     "output_type": "stream",
     "text": [
      "[nltk_data] Downloading package omw-1.4 to /Users/aidan/nltk_data...\n"
     ]
    },
    {
     "name": "stdout",
     "output_type": "stream",
     "text": [
      "Obtaining preprocessed conversations with:  10 % of information available\n",
      "Therea are  124017  conversations with  10.0  % of information available\n",
      "   (124017, 2)\n",
      "Calculating: Time when a conversation starts BF ...\n",
      "   (124017, 2)\n",
      "Calculating: Correctly spelled words BF ...\n",
      "   (124017, 1)\n",
      "Calculating: Sexual topic words BF ...\n",
      "   (124017, 1)\n",
      "Calculating: NRC emotional markers BF ...\n",
      "   (124017, 6)\n",
      "Calculating: Depeche emotional markers BF ...\n",
      "   (124017, 4)\n",
      "Calculating: Emoticons BF ...\n",
      "   (124017, 1)\n",
      "Calculating: Number of participants BF ...\n",
      "   (124017, 1)\n",
      "Calculating: Word interactions per user BF ...\n",
      "   (124017, 5)\n",
      "0 ) Stacking  Number of participants  BF\n",
      "1 ) Stacking  Interaction words per user  BF\n",
      "2 ) Stacking  Depeche emotions  BF\n",
      "3 ) Stacking  Emoticons  BF\n",
      "4 ) Stacking  Correctly spelled words  BF\n",
      "5 ) Stacking  Time when a conversation starts  BF\n",
      "6 ) Stacking  Sexual topic words  BF\n",
      "7 ) Stacking  NRC emotions  BF\n",
      "The final BF-PSR vector is of size:  (124017, 23)\n",
      "F1 groomer:  0.5596\n",
      "**************************************************\n",
      "Obtaining preprocessed conversations with:  20 % of information available\n",
      "Therea are  151732  conversations with  20.0  % of information available\n",
      "   (151732, 2)\n",
      "Calculating: Time when a conversation starts BF ...\n",
      "   (151732, 2)\n",
      "Calculating: Correctly spelled words BF ...\n",
      "   (151732, 1)\n",
      "Calculating: Sexual topic words BF ...\n",
      "   (151732, 1)\n",
      "Calculating: NRC emotional markers BF ...\n",
      "   (151732, 6)\n",
      "Calculating: Depeche emotional markers BF ...\n",
      "   (151732, 4)\n",
      "Calculating: Emoticons BF ...\n",
      "   (151732, 1)\n",
      "Calculating: Number of participants BF ...\n",
      "   (151732, 1)\n",
      "Calculating: Word interactions per user BF ...\n",
      "   (151732, 5)\n",
      "0 ) Stacking  Number of participants  BF\n",
      "1 ) Stacking  Interaction words per user  BF\n",
      "2 ) Stacking  Depeche emotions  BF\n",
      "3 ) Stacking  Emoticons  BF\n",
      "4 ) Stacking  Correctly spelled words  BF\n",
      "5 ) Stacking  Time when a conversation starts  BF\n",
      "6 ) Stacking  Sexual topic words  BF\n",
      "7 ) Stacking  NRC emotions  BF\n",
      "The final BF-PSR vector is of size:  (151732, 23)\n",
      "F1 groomer:  0.6084\n",
      "**************************************************\n",
      "Obtaining preprocessed conversations with:  30 % of information available\n",
      "Therea are  153304  conversations with  30.0  % of information available\n",
      "   (153304, 2)\n",
      "Calculating: Time when a conversation starts BF ...\n",
      "   (153304, 2)\n",
      "Calculating: Correctly spelled words BF ...\n",
      "   (153304, 1)\n",
      "Calculating: Sexual topic words BF ...\n",
      "   (153304, 1)\n",
      "Calculating: NRC emotional markers BF ...\n",
      "   (153304, 6)\n",
      "Calculating: Depeche emotional markers BF ...\n",
      "   (153304, 4)\n",
      "Calculating: Emoticons BF ...\n",
      "   (153304, 1)\n",
      "Calculating: Number of participants BF ...\n",
      "   (153304, 1)\n",
      "Calculating: Word interactions per user BF ...\n",
      "   (153304, 5)\n",
      "0 ) Stacking  Number of participants  BF\n",
      "1 ) Stacking  Interaction words per user  BF\n",
      "2 ) Stacking  Depeche emotions  BF\n",
      "3 ) Stacking  Emoticons  BF\n",
      "4 ) Stacking  Correctly spelled words  BF\n",
      "5 ) Stacking  Time when a conversation starts  BF\n",
      "6 ) Stacking  Sexual topic words  BF\n",
      "7 ) Stacking  NRC emotions  BF\n",
      "The final BF-PSR vector is of size:  (153304, 23)\n",
      "F1 groomer:  0.6352\n",
      "**************************************************\n",
      "Obtaining preprocessed conversations with:  40 % of information available\n",
      "Therea are  153306  conversations with  40.0  % of information available\n",
      "   (153306, 2)\n",
      "Calculating: Time when a conversation starts BF ...\n",
      "   (153306, 2)\n",
      "Calculating: Correctly spelled words BF ...\n",
      "   (153306, 1)\n",
      "Calculating: Sexual topic words BF ...\n",
      "   (153306, 1)\n",
      "Calculating: NRC emotional markers BF ...\n",
      "   (153306, 6)\n",
      "Calculating: Depeche emotional markers BF ...\n",
      "   (153306, 4)\n",
      "Calculating: Emoticons BF ...\n",
      "   (153306, 1)\n",
      "Calculating: Number of participants BF ...\n",
      "   (153306, 1)\n",
      "Calculating: Word interactions per user BF ...\n",
      "   (153306, 5)\n",
      "0 ) Stacking  Number of participants  BF\n",
      "1 ) Stacking  Interaction words per user  BF\n",
      "2 ) Stacking  Depeche emotions  BF\n",
      "3 ) Stacking  Emoticons  BF\n",
      "4 ) Stacking  Correctly spelled words  BF\n",
      "5 ) Stacking  Time when a conversation starts  BF\n",
      "6 ) Stacking  Sexual topic words  BF\n",
      "7 ) Stacking  NRC emotions  BF\n",
      "The final BF-PSR vector is of size:  (153306, 23)\n",
      "F1 groomer:  0.6537\n",
      "**************************************************\n",
      "Obtaining preprocessed conversations with:  50 % of information available\n",
      "Therea are  153310  conversations with  50.0  % of information available\n",
      "   (153310, 2)\n",
      "Calculating: Time when a conversation starts BF ...\n",
      "   (153310, 2)\n",
      "Calculating: Correctly spelled words BF ...\n",
      "   (153310, 1)\n",
      "Calculating: Sexual topic words BF ...\n",
      "   (153310, 1)\n",
      "Calculating: NRC emotional markers BF ...\n",
      "   (153310, 6)\n",
      "Calculating: Depeche emotional markers BF ...\n",
      "   (153310, 4)\n",
      "Calculating: Emoticons BF ...\n",
      "   (153310, 1)\n",
      "Calculating: Number of participants BF ...\n",
      "   (153310, 1)\n",
      "Calculating: Word interactions per user BF ...\n",
      "   (153310, 5)\n",
      "0 ) Stacking  Number of participants  BF\n",
      "1 ) Stacking  Interaction words per user  BF\n",
      "2 ) Stacking  Depeche emotions  BF\n",
      "3 ) Stacking  Emoticons  BF\n",
      "4 ) Stacking  Correctly spelled words  BF\n",
      "5 ) Stacking  Time when a conversation starts  BF\n",
      "6 ) Stacking  Sexual topic words  BF\n",
      "7 ) Stacking  NRC emotions  BF\n",
      "The final BF-PSR vector is of size:  (153310, 23)\n",
      "F1 groomer:  0.6717\n",
      "**************************************************\n",
      "Obtaining preprocessed conversations with:  60 % of information available\n",
      "Therea are  155101  conversations with  60.0  % of information available\n",
      "   (155101, 2)\n",
      "Calculating: Time when a conversation starts BF ...\n",
      "   (155101, 2)\n",
      "Calculating: Correctly spelled words BF ...\n",
      "   (155101, 1)\n",
      "Calculating: Sexual topic words BF ...\n",
      "   (155101, 1)\n",
      "Calculating: NRC emotional markers BF ...\n",
      "   (155101, 6)\n",
      "Calculating: Depeche emotional markers BF ...\n",
      "   (155101, 4)\n",
      "Calculating: Emoticons BF ...\n",
      "   (155101, 1)\n",
      "Calculating: Number of participants BF ...\n",
      "   (155101, 1)\n",
      "Calculating: Word interactions per user BF ...\n",
      "   (155101, 5)\n",
      "0 ) Stacking  Number of participants  BF\n",
      "1 ) Stacking  Interaction words per user  BF\n",
      "2 ) Stacking  Depeche emotions  BF\n",
      "3 ) Stacking  Emoticons  BF\n",
      "4 ) Stacking  Correctly spelled words  BF\n",
      "5 ) Stacking  Time when a conversation starts  BF\n",
      "6 ) Stacking  Sexual topic words  BF\n",
      "7 ) Stacking  NRC emotions  BF\n",
      "The final BF-PSR vector is of size:  (155101, 23)\n",
      "F1 groomer:  0.6862\n",
      "**************************************************\n",
      "Obtaining preprocessed conversations with:  70 % of information available\n",
      "Therea are  155101  conversations with  70.0  % of information available\n",
      "   (155101, 2)\n",
      "Calculating: Time when a conversation starts BF ...\n",
      "   (155101, 2)\n",
      "Calculating: Correctly spelled words BF ...\n",
      "   (155101, 1)\n",
      "Calculating: Sexual topic words BF ...\n",
      "   (155101, 1)\n",
      "Calculating: NRC emotional markers BF ...\n",
      "   (155101, 6)\n",
      "Calculating: Depeche emotional markers BF ...\n",
      "   (155101, 4)\n",
      "Calculating: Emoticons BF ...\n",
      "   (155101, 1)\n",
      "Calculating: Number of participants BF ...\n",
      "   (155101, 1)\n",
      "Calculating: Word interactions per user BF ...\n",
      "   (155101, 5)\n",
      "0 ) Stacking  Number of participants  BF\n",
      "1 ) Stacking  Interaction words per user  BF\n",
      "2 ) Stacking  Depeche emotions  BF\n",
      "3 ) Stacking  Emoticons  BF\n",
      "4 ) Stacking  Correctly spelled words  BF\n",
      "5 ) Stacking  Time when a conversation starts  BF\n",
      "6 ) Stacking  Sexual topic words  BF\n",
      "7 ) Stacking  NRC emotions  BF\n",
      "The final BF-PSR vector is of size:  (155101, 23)\n",
      "F1 groomer:  0.6975\n",
      "**************************************************\n",
      "Obtaining preprocessed conversations with:  80 % of information available\n",
      "Therea are  155101  conversations with  80.0  % of information available\n",
      "   (155101, 2)\n",
      "Calculating: Time when a conversation starts BF ...\n",
      "   (155101, 2)\n",
      "Calculating: Correctly spelled words BF ...\n",
      "   (155101, 1)\n",
      "Calculating: Sexual topic words BF ...\n",
      "   (155101, 1)\n",
      "Calculating: NRC emotional markers BF ...\n",
      "   (155101, 6)\n",
      "Calculating: Depeche emotional markers BF ...\n",
      "   (155101, 4)\n",
      "Calculating: Emoticons BF ...\n",
      "   (155101, 1)\n",
      "Calculating: Number of participants BF ...\n",
      "   (155101, 1)\n",
      "Calculating: Word interactions per user BF ...\n",
      "   (155101, 5)\n",
      "0 ) Stacking  Number of participants  BF\n",
      "1 ) Stacking  Interaction words per user  BF\n",
      "2 ) Stacking  Depeche emotions  BF\n",
      "3 ) Stacking  Emoticons  BF\n",
      "4 ) Stacking  Correctly spelled words  BF\n",
      "5 ) Stacking  Time when a conversation starts  BF\n",
      "6 ) Stacking  Sexual topic words  BF\n",
      "7 ) Stacking  NRC emotions  BF\n",
      "The final BF-PSR vector is of size:  (155101, 23)\n",
      "F1 groomer:  0.7078\n",
      "**************************************************\n",
      "Obtaining preprocessed conversations with:  90 % of information available\n",
      "Therea are  155101  conversations with  90.0  % of information available\n",
      "   (155101, 2)\n",
      "Calculating: Time when a conversation starts BF ...\n",
      "   (155101, 2)\n",
      "Calculating: Correctly spelled words BF ...\n",
      "   (155101, 1)\n",
      "Calculating: Sexual topic words BF ...\n",
      "   (155101, 1)\n",
      "Calculating: NRC emotional markers BF ...\n",
      "   (155101, 6)\n",
      "Calculating: Depeche emotional markers BF ...\n",
      "   (155101, 4)\n",
      "Calculating: Emoticons BF ...\n",
      "   (155101, 1)\n",
      "Calculating: Number of participants BF ...\n",
      "   (155101, 1)\n",
      "Calculating: Word interactions per user BF ...\n",
      "   (155101, 5)\n",
      "0 ) Stacking  Number of participants  BF\n",
      "1 ) Stacking  Interaction words per user  BF\n",
      "2 ) Stacking  Depeche emotions  BF\n",
      "3 ) Stacking  Emoticons  BF\n",
      "4 ) Stacking  Correctly spelled words  BF\n",
      "5 ) Stacking  Time when a conversation starts  BF\n",
      "6 ) Stacking  Sexual topic words  BF\n",
      "7 ) Stacking  NRC emotions  BF\n",
      "The final BF-PSR vector is of size:  (155101, 23)\n",
      "F1 groomer:  0.7187\n",
      "**************************************************\n",
      "Obtaining preprocessed conversations with:  100 % of information available\n",
      "Therea are  155101  conversations with  100  % of information available\n",
      "   (155101, 2)\n",
      "Calculating: Time when a conversation starts BF ...\n",
      "   (155101, 2)\n",
      "Calculating: Correctly spelled words BF ...\n",
      "   (155101, 1)\n",
      "Calculating: Sexual topic words BF ...\n",
      "   (155101, 1)\n",
      "Calculating: NRC emotional markers BF ...\n",
      "   (155101, 6)\n",
      "Calculating: Depeche emotional markers BF ...\n",
      "   (155101, 4)\n",
      "Calculating: Emoticons BF ...\n",
      "   (155101, 1)\n",
      "Calculating: Number of participants BF ...\n",
      "   (155101, 1)\n",
      "Calculating: Word interactions per user BF ...\n",
      "   (155101, 5)\n",
      "0 ) Stacking  Number of participants  BF\n",
      "1 ) Stacking  Interaction words per user  BF\n",
      "2 ) Stacking  Depeche emotions  BF\n",
      "3 ) Stacking  Emoticons  BF\n",
      "4 ) Stacking  Correctly spelled words  BF\n",
      "5 ) Stacking  Time when a conversation starts  BF\n",
      "6 ) Stacking  Sexual topic words  BF\n",
      "7 ) Stacking  NRC emotions  BF\n",
      "The final BF-PSR vector is of size:  (155101, 23)\n",
      "F1 groomer:  0.7313\n",
      "**************************************************\n",
      "List of F1_g results:  [0.5596, 0.6084, 0.6352, 0.6537, 0.6717, 0.6862, 0.6975, 0.7078, 0.7187, 0.7313]\n"
     ]
    }
   ],
   "source": [
    "#added the following line\n",
    "#import nltk\n",
    "# nltk.download('omw-1.4')\n",
    "retains = [0.1,0.2,0.3,0.4,0.5,0.6,0.7,0.8,0.9,1]\n",
    "f1_l = simulation(model,retains,labels_BFS,8)\n",
    "print(\"List of F1_g results: \",f1_l)"
   ]
  },
  {
   "cell_type": "markdown",
   "metadata": {},
   "source": [
    "# Plotting the F1 mesure of tha groomer class "
   ]
  },
  {
   "cell_type": "code",
   "execution_count": 42,
   "metadata": {
    "scrolled": true
   },
   "outputs": [
    {
     "data": {
      "image/png": "[encoded data removed]",
      "text/plain": [
       "<Figure size 1000x400 with 1 Axes>"
      ]
     },
     "metadata": {},
     "output_type": "display_data"
    }
   ],
   "source": [
    "f1_list = f1_l.copy()\n",
    "plotting_bf_psr(f1_list)"
   ]
  },
  {
   "cell_type": "markdown",
   "metadata": {},
   "source": [
    "# Prediction functions for the new PJZ and PJZC datasets"
   ]
  },
  {
   "cell_type": "code",
   "execution_count": 265,
   "metadata": {},
   "outputs": [],
   "source": [
    "#np.set_printoptions(formatter={'float': '{: 0.3f}'.format})\n",
    "#I added verbose option to figure out what things should look like\n",
    "def groomer_predictions(model,doc_partial,X_time_partial,X_participants_partial,X_int_user_partial,labels=[],_predict=False,verbose=False):\n",
    "    \n",
    "    #print(\"Document: \",doc_partial)\n",
    "    if verbose:\n",
    "        print(\"Document: \",doc_partial)\n",
    "    # Obtaining the partial profiles with the PSR++ method\n",
    "    DRT_partial = PSR_plus_document_representation(doc_partial,psr_weights)\n",
    "    if verbose:\n",
    "        print(\"DRT shape: \", DRT_partial.shape)\n",
    "#     print(\"  \",DRT_partial.shape)\n",
    "    \n",
    "    # Calculating proposed BF with partial information\n",
    "    '''Time when a conversation starts BF'''\n",
    "    #print(\"Calculating: Time when a conversation starts BF ...\")\n",
    "    time_partial = calculating_time(X_time_partial,2)\n",
    "    time_partial = np.nan_to_num(time_partial) ## might need to change this because they normalize based on there being other values but we are doing only one value\n",
    "    if verbose:\n",
    "        print(\"Time: \", time_partial)#HH, MM\n",
    "    \n",
    "    #print(\"  \",time_partial.shape)\n",
    "    \n",
    "    '''Correctly spelled words BF'''\n",
    "    #print(\"Calculating: Correctly spelled words BF ...\")\n",
    "    csw_partial = calculating_CSW(doc_partial)\n",
    "    #print(\"  \",csw_partial.shape)\n",
    "    if verbose:\n",
    "        print(\"Correctly spelled words: \", csw_partial.shape)\n",
    "    \n",
    "    '''Sexual topic words BF'''\n",
    "    #print(\"Calculating: Sexual topic words BF ...\")\n",
    "    sexual_partial = calculating_sexual_words(sexual_words, doc_partial)\n",
    "    #print(\"  \",sexual_partial.shape)\n",
    "    if verbose:\n",
    "        print(\"Sexual topic words: \", sexual_partial.shape)\n",
    "    \n",
    "    '''NRC emotional markers BF'''\n",
    "    #print(\"Calculating: NRC emotional markers BF ...\")\n",
    "    nrc_partial = calculating_emotional_markers(nrc_emotions, doc_partial,10)\n",
    "    nrc_partial = nrc_partial[:, [0,1,4,6,7,8]]\n",
    "    #print(\"  \",nrc_partial.shape)\n",
    "    if verbose:\n",
    "        print(\"NRC emotional markers: \", nrc_partial.shape)\n",
    "\n",
    "    '''Depeche emotional markers BF'''\n",
    "    #print(\"Calculating: Depeche emotional markers BF ...\")\n",
    "    de_partial = calculating_emotional_markers(depeche_emotions, doc_partial,8)\n",
    "    de_partial = de_partial[:, [1,2,6,7]]\n",
    "    #print(\"  \",de_partial.shape)\n",
    "    if verbose:\n",
    "        print(\"Depeche emotional markers: \", de_partial.shape)\n",
    "    \n",
    "    '''Emoticons BF'''\n",
    "    #print(\"Calculating: Emoticons BF ...\")\n",
    "    emoticon_partial = calculating_emoticons_faster(emoticons_set, doc_partial)\n",
    "    #print(\"  \",emoticon_partial.shape)\n",
    "    if verbose:\n",
    "        print(\"Emoticons: \", emoticon_partial.shape)\n",
    "    \n",
    "    '''Number of participants BF'''\n",
    "    #print(\"Calculating: Number of participants BF ...\")\n",
    "    participants_partial = np.asarray(X_participants_partial)\n",
    "    #print(\"  \",participants_partial.shape)\n",
    "    if verbose:\n",
    "        temp = [X_participants_partial]\n",
    "        print(temp)\n",
    "        print(X_participants_partial)\n",
    "        participants_partial = np.asarray(temp)\n",
    "        print(\"number of participants: \", participants_partial)\n",
    "        \n",
    "\n",
    "    '''% Word interactions per user BF'''\n",
    "    #print(\"Calculating: Word interactions per user BF ...\")\n",
    "    int_user_partial = column_extract(X_int_user_partial)\n",
    "    #print(\"  \",int_user_partial.shape)\n",
    "    if verbose:\n",
    "        int_user_partial = X_int_user_partial\n",
    "        print(\"word interactions per used: \", int_user_partial)\n",
    "    \n",
    "    '''Putting toguether all proposed BFs'''\n",
    "    BFS = [participants_partial,int_user_partial,de_partial,emoticon_partial,csw_partial,time_partial,sexual_partial,nrc_partial]\n",
    "    labels_BFS = [\"Number of participants\",\"Interaction words per user\",\"Depeche emotions\",\"Emoticons\",\"Correctly spelled words\",\"Time when a conversation starts\",\"Sexual topic words\",\"NRC emotions\",]\n",
    "    BF_PSR_partial = DRT_partial\n",
    "    if verbose:\n",
    "        print(\"SHAPES:\")\n",
    "        print(BF_PSR_partial.shape)\n",
    "    for i in range(8):\n",
    "        bf_partial = BFS[i]\n",
    "        if verbose:\n",
    "            pass\n",
    "            #print(bf_partial.shape)\n",
    "        #print(i,\") Stacking \",labels_BFS[i],\" BF\")\n",
    "        BF_PSR_partial = np.hstack((BF_PSR_partial,bf_partial))\n",
    "        #print(\"The final BF-PSR vector is of size: \",BF_PSR_partial.shape)\n",
    "        \n",
    "\n",
    "    if _predict == False:\n",
    "        probabilities = model.predict_proba(BF_PSR_partial)\n",
    "        return probabilities\n",
    "    else:\n",
    "        predictions = model.predict(BF_PSR_partial) \n",
    "        f1_g = np.round(f1_score(labels,predictions,average='binary',pos_label=1),4)\n",
    "        error_f1_g = error_filtering_PJdataset(labels,predictions)\n",
    "        print(\"error_f1_g: \",error_f1_g)\n",
    "        return f1_g,error_f1_g\n",
    "        \n",
    "\n"
   ]
  },
  {
   "cell_type": "code",
   "execution_count": 290,
   "metadata": {},
   "outputs": [],
   "source": [
    "def calculating_preds(PATH,num_chunks):\n",
    "    c = tokenizer_Somajo_vectorizer    \n",
    "    print(\"Extracting conversations\")\n",
    "    data_set = loading_pkl(PATH) \n",
    "    matrix_text,labels,start_time_conversations,number_participants,matrix = data_set\n",
    "    print(\"%text: \",(matrix_text.shape))\n",
    "    print(\"labels: \",len(labels),labels[0])\n",
    "    print(\"start_time_conversations: \",len(start_time_conversations),start_time_conversations[0])\n",
    "    print(\"# participants: \",(number_participants.shape),number_participants[0][0])\n",
    "    print(\"%int matrix: \",(matrix.shape),matrix[0][0])\n",
    "    print(\"+\"*40)\n",
    "    \n",
    "    \n",
    "    probs = list()\n",
    "    \n",
    "    ###\n",
    "    #My horrible abomination code \n",
    "    \n",
    "    #print(matrix_text[121][:9]) ## the second index being 9 gives you the whole conversation\n",
    "    pred_value = 10\n",
    "    matrix_index = 0\n",
    "    for temp_index in range(len(matrix_text)): \n",
    "        if pred_value > 0:\n",
    "            if labels[temp_index] == 1:\n",
    "                matrix_index = temp_index\n",
    "                pred_value -= 1\n",
    "    matrix_index = 15\n",
    "            \n",
    "    doc_partial = [matrix_text[matrix_index][9]] #enclose in brackets so that we get 1 conversation\n",
    "    X_time_partial = [start_time_conversations[matrix_index]]\n",
    "    X_participants_partial = number_participants[matrix_index][9]\n",
    "    X_int_user_partial = [matrix[matrix_index][9]]\n",
    "    Y_partial = [labels[matrix_index]] #same reasoning as above\n",
    "    \n",
    "    #print(\"Doc partial before: \")\n",
    "#     print(doc_partial)\n",
    "    groomer_before = sum([1 for i in labels if i ==1])\n",
    "    '''Applying preprocessing'''\n",
    "    doc_partial,X_time_partial,X_participants_partial,X_int_user_partial,Y_partial = pre_processing_conversations_new_datasets(c,doc_partial,X_time_partial,X_participants_partial,X_int_user_partial,Y_partial,True)\n",
    "    Y_partial = np.asarray(Y_partial)\n",
    "    groomer_after = sum([1 for i in labels if i ==1])\n",
    "#     print(\"Doc partial after: \")\n",
    "#     print(doc_partial)\n",
    "#     print(\"X_time_partial: \")\n",
    "#     print(X_time_partial)\n",
    "#     print(\"X_participants_partial\")\n",
    "#     print(X_participants_partial)\n",
    "#     print(\"X_int_user_partial\")\n",
    "#     print(X_int_user_partial)\n",
    "#     print(\"Y_partial\")\n",
    "#     print(Y_partial)\n",
    "    \n",
    "    #using this line for verbose\n",
    "    probs = groomer_predictions(model,doc_partial,X_time_partial,X_participants_partial,X_int_user_partial,Y_partial,False,True)\n",
    "    print(probs)  \n",
    "    print(\"Conversation index: \", matrix_index)\n",
    "    print(\"Label is: \", Y_partial)\n",
    "    print(\"Predicted label is:\", np.argmax(probs))\n",
    "    return\n",
    "    ###\n",
    "    for  chunk in range(num_chunks):\n",
    "        \n",
    "        doc_partial = matrix_text[:,chunk]\n",
    "        print(len(doc_partial))\n",
    "        \n",
    "        X_time_partial = start_time_conversations\n",
    "        X_participants_partial = number_participants[:,chunk]\n",
    "        X_int_user_partial = matrix[:,chunk]\n",
    "        Y_partial = labels\n",
    "        \n",
    "        groomer_before = sum([1 for i in labels if i ==1])\n",
    "        '''Applying preprocessing'''\n",
    "        doc_partial,X_time_partial,X_participants_partial,X_int_user_partial,Y_partial = pre_processing_conversations_new_datasets(c,doc_partial,X_time_partial,X_participants_partial,X_int_user_partial,Y_partial,True)\n",
    "        Y_partial = np.asarray(Y_partial)\n",
    "        groomer_after = sum([1 for i in labels if i ==1])\n",
    "\n",
    "        '''Batch version '''\n",
    "        f1_g,error_f1_g = groomer_predictions(model,doc_partial,X_time_partial,X_participants_partial,X_int_user_partial,Y_partial,True)  \n",
    "        probs.append(error_f1_g)\n",
    "        print(\"At chunk \",chunk+1, \"F1_g: \",f1_g,\" # Documents: \",len(Y_partial))\n",
    "        print(\"*\"*40)\n",
    "    \n",
    "    print(probs)\n",
    "    f1_list = probs.copy()\n",
    "    plotting_bf_psr(f1_list)\n",
    "\n"
   ]
  },
  {
   "cell_type": "markdown",
   "metadata": {},
   "source": [
    "# Testing with PJZC dataset"
   ]
  },
  {
   "cell_type": "code",
   "execution_count": 291,
   "metadata": {},
   "outputs": [
    {
     "name": "stdout",
     "output_type": "stream",
     "text": [
      "Extracting conversations\n",
      "%text:  (21070, 10)\n",
      "labels:  21070 0\n",
      "start_time_conversations:  21070 18:10\n",
      "# participants:  (21070, 10) [1]\n",
      "%int matrix:  (21070, 10) [1. 0. 0. 0. 0.]\n",
      "++++++++++++++++++++++++++++++++++++++++\n",
      "Document:  [['ayo', ',', 'both', 'works', 'for', 'me', ',', 'i', 'can', 'see', 'it', 'being', 'especially', 'useful', 'in', 'application', 'code', ',', 'where', 'errors', 'are', 'more', 'likely', 'to', 'be', 'thrown', 'directly', 'at', 'the', 'user', 'rather', 'than', 'pattern', '-', 'matched', 'on', 'unrelated', ',', 'but', 'this', 'may', 'be', 'interesting', 'to', 'some', 'folks', 'here', ',', 'i', 'just', 'released', 'a', 'new', 'version', 'of', 'ncdu', '...', 'in', 'zig', ':', 'https://dev.yorhel.nl/doc/ncdu2', 'neat', '!', 'very', 'nice', 'post', ':)', 'ayo', ':', 'wait', ',', 'you', \"'re\", 'the', 'author', 'of', 'the', 'original', 'ncdu', 'as', 'well', '?', 'thanks', '<3', 'companion_cube', ':', 'yup', 'ayo', ':', 'ever', 'looked', 'into', 'miller', 'columns', '?', 'wow', 'that', \"'s\", 'really', 'cool', '!', 'i', \"'ve\", 'used', 'ncdu', 'a', 'lot', 'in', 'the', 'past', 'few', 'years', 'earnestly', ':', 'you', \"'re\", 'the', 'first', 'to', 'suggest', 'that', '.', 'ncdu', \"'s\", 'not', 'much', 'of', 'a', 'file', 'manager', 'though', ',', 'so', 'not', 'sure', 'it', \"'ll\", 'be', 'all', 'that', 'useful', 'ayo', ':', 'it', 'does', 'blur', 'the', 'line', 'a', 'fair', 'bit', 'but', 'i', 'agree', 'that', 'it', 'fills', 'a', 'nice', 'niche', 'for', 'just', 'browsing', 'files', 'in', 'a', 'more', 'visual', 'way', 'to', 'assess', 'disk', 'usage', '(', 'this', 'is', 'what', 'i', 'use', 'it', 'for', ')', ',', 'but', 'miller', 'columns', 'tend', 'to', 'provide', 'a', 'nice', 'amount', 'of', 'surrounding', 'context', 'when', 'moving', 'through', 'trees', '(', 'this', 'is', 'helpful', 'to', 'keep', 'things', 'in', 'perspective', 'when', 'stuff', 'like', 'percentage', 'use', 'can', 'make', 'things', 'look', 'larger', 'than', 'they', 'are', 'when', 'drilled', 'far', 'into', 'a', 'directory', 'tree', ')', 'ayo', ':', 'although', 'this', 'is', \"n't\", 'a', 'feature', 'request', ',', 'just', 'if', 'you', 'ever', 'thought', 'about', 'them', 'for', 'ncdu', 'in', 'the', 'context', 'of', 'so', 'few', 'fms', 'or', 'such', 'implementing', 'this', 'way', 'of', 'viewing', 'directory', 'trees', '.', 'i', 'can', 'only', 'think', 'of', 'ranger', 'and', 'one', 'other', 'gui', 'based', 'one', 'which', 'i', 'forget', 'the', 'name', 'of', '(', 'it', 'did', \"n't\", 'last', 'long', ')', 'marlin', ',', 'that', \"'s\", 'it', 'it', \"'s\", 'the', 'same', 'kind', 'of', 'columns', 'that', 'ranger', 'has', '?', 'that', \"'s\", 'exactly', 'it', ',', 'yeah', 'ah', 'yeah', 'that', \"'s\", 'cool', 'osx', \"'s\", 'finder', 'uses', 'it', 'and', 'apparently', 'pantheon', 'files', 'i', 'mean', 'if', 'we', \"'re\", 'on', 'the', '\"', 'feature', 'request', '\"', 'tab', ',', 'maybe', 'a', 'big', 'red', 'button', '\"', 'delete', 'that', 'shit', '\"', '(', 'to', 'complement', 'pressing', \"'\", 'd', \"'\", ')', 'would', 'be', 'cathartic', 'buttons', 'in', 'a', 'tui', '?', 'blasphemy', '!', 'blinking', ',', 'if', 'possible', 'i', 'appreciate', 'the', '\"', 'do', \"n't\", 'ask', 'me', 'again', '\"', 'option', 'when', 'you', 'find', 'a', 'cache', 'that', 'weights', 'several', 'gbs', 'and', 'are', 'like', '\"', 'oh', 'looks', 'like', 'i', 'can', 'fee', 'myself', 'some', 'disk', '\"', 'use', 'ncdu', 'to', 'prune', 'lgogdownloader', 'collections', 'ayo', ':', 'could', 'ncdu', 'ever', 'load', 'files', 'in', 'the', 'background', 'while', 'also', 'prioritising', 'the', 'immediate', 'directory', 'a', 'user', 'descends', 'into', '?', ':P', 'but', 'yeah', ',', 'thanks', 'for', 'ncdu', ',', 'it', 'has', 'always', 'been', 'very', 'useful', '+1', 'earnestly', ':', 'that', 'feature', \"'s\", 'actually', 'mentioned', 'in', 'the', 'article', '.', 'it', \"'s\", 'requested', 'pretty', 'often', 'but', 'not', 'sure', 'i', \"'ll\", 'be', 'able', 'find', 'a', 'satisfying', 'way', 'to', 'implement', 'it', '.', '...', 'and', 'not', 'something', 'i', 'have', 'much', 'of', 'a', 'need', 'for', 'myself', ',', 'so', 'that', 'dampens', 'the', 'motivation', ':P', 'it', 'would', 'be', 'a', '\"', 'nice', 'to', 'have', '\"', '.', 'even', 'on', 'my', 'old', 'slow', 'hdd', 'running', 'btrfs', 'that', 'would', 'take', 'literally', 'minutes', 'to', 'load', ',', 'i', \"'d\", 'just', 'do', 'something', 'else', 'while', 'it', 'was', 'spinning', '(', '5', 'to', '10', 'minutes', ')', 'ayo', ',', 'i', \"'m\", 'looking', 'forward', 'to', 'a', 'few', 'years', 'in', 'the', 'future', 'when', 'i', 'can', 'look', 'people', 'in', 'the', 'eye', 'and', 'say', 'yes', ',', 'you', 'can', 'use', 'zig', 'in', 'production', ',', 'it', 'is', 'stable', 'and', 'ready', 'for', 'you', 'andrewrk', ':', 'i', \"'m\", 'looking', 'forward', 'to', 'that', 'as', 'well', ',', 'but', 'do', \"n't\", 'let', 'my', 'apology', 'for', 'the', 'ncdu', 'rewrite', 'pressure', 'you', ',', 'i', \"'d\", 'rather', 'see', 'a', 'well', 'polished', 'stable', 'release', 'even', 'if', 'it', 'takes', 'a', 'bit', 'longer', 'me', 'too', 'well', ',', 'one', 'thing', 'at', 'a', 'time', '.', 'the', 'next', 'step', 'is', 'self', '-', 'hosted', 'compiler', 'wild', 'that', 'it', \"'s\", '133,403', 'lines', 'and', 'still', 'not', 'done', 'it', 'does', 'have', 'a', 'very', 'large', 'scope', 'true', 'how', 'much', 'of', 'that', 'is', 'dedicated', 'to', 'handling', 'comptime', ',', 'if', 'it', \"'s\", 'even', 'possible', 'to', 'estimate', '?', 'a', 'tiny', ',', 'insignificant', 'fraction', 'it', \"'s\", 'barely', 'a', 'different', 'code', 'path', 'than', 'type', 'checking', 'but', 'is', \"n't\", 'that', 'because', 'type', 'checking', 'requires', 'evaluation', 'anyway', '?', 'as', 'in', 'any', 'other', 'dependently', 'typed', 'languages', ';)', 'https://clbin.com/jufue', 'is', 'sema', 'the', 'part', 'that', 'deals', 'with', 'that', 'then', '?', 'yes', 'here', 'is', 'the', 'comptime', 'boolean', 'not', '(', \"'\", '!', \"'\", ')', 'handling', ':', 'https://github.com/ziglang/zig/blob/18b8738069268cc913bbae9580d2d170618a2ae9/src/sema.zig#l5267-l5273', 'ooh', 'i', 'see', 'a', 'bug', 'already', ',', 'it', 'should', 'be', 'allowing', 'undefined', 'and', 'returning', 'undefined', 'in', 'that', 'case', 'instead', 'of', 'emitting', 'an', 'error', 'these', 'bugs', 'got', 'much', 'easier', 'to', 'spot', 'when', 'i', 'renamed', 'value', '(', ')', 'to', 'resolvepossiblyundefinedvalue', '(', ')', ':)', 'andrew', 'uses', 'fish', '?', 'til', 'very', 'nice', ',', 'it', 'tries', 'to', 'reduce', 'any', '`', '!', 'x`', 'to', 'a', 'boolean', '?', 'pfiu', 'haze', ':', 'yes', ',', 'he', \"'s\", 'a', 'man', 'of', 'taste', 'what', 'is', '\"', 'pfiu', '\"', '?', 'if', 'you', 'look', 'at', 'line', '5266', '(', 'just', 'above', 'the', 'highlighted', 'lines', ')', 'that', 'will', 'emit', 'a', 'compile', 'error', 'if', 'the', 'operand', 'does', 'not', 'coerce', 'to', 'bool', 'sorry', ',', 'i', 'mean', ',', 'that', \"'s\", 'cool', 'ah', 'indeed', 'so', 'evaluation', 'and', 'type', 'checking', 'are', 'indeed', 'mixed', '.', 'and', 'below', 'the', 'highlighted', 'lines', 'you', 'can', 'see', 'it', 'says', 'via', 'requireruntimeblock', '\"', 'if', 'we', 'get', 'here', ',', 'emit', 'a', 'compile', 'error', 'if', 'this', 'code', 'is', 'supposed', 'to', 'be', 'evaluated', 'at', 'compile', 'time', ',', 'because', 'we', 'do', 'not', 'have', 'a', 'comptime', 'known', 'result', '\"', 'comptime', 'code', ',', 'runtime', 'code', ',', 'and', 'mixed', 'comptime', '/', 'runtime', 'code', 'are', 'all', 'the', 'same', '.', 'the', 'input', 'is', 'zir', ',', 'the', 'output', 'is', 'air', '.', 'if', 'the', 'code', 'runs', 'at', 'compile', 'time', ',', 'the', 'air', 'will', 'have', 'no', 'runtime', 'instructions', 'emitted', 'right', '.', 'it', \"'s\", 'really', 'partial', 'evaluation', 'yep']]\n",
      "DRT shape:  (1, 2)\n",
      "Time:  [[0. 1.]]\n",
      "Correctly spelled words:  (1, 1)\n",
      "Sexual topic words:  (1, 1)\n",
      "NRC emotional markers:  (1, 6)\n",
      "Depeche emotional markers:  (1, 4)\n",
      "Emoticons:  (1, 1)\n",
      "[[6]]\n",
      "[6]\n",
      "number of participants:  [[6]]\n",
      "word interactions per used:  [array([0.20797011, 0.28144458, 0.29514321, 0.19676214, 0.01369863])]\n",
      "SHAPES:\n",
      "(1, 2)\n",
      "[[9.99999996e-01 3.63291389e-09]]\n",
      "Conversation index:  15\n",
      "Label is:  [0]\n",
      "Predicted label is: 0\n"
     ]
    }
   ],
   "source": [
    "PATH = \"Data/PJZC.pkl\"\n",
    "calculating_preds(PATH,10)"
   ]
  },
  {
   "cell_type": "markdown",
   "metadata": {},
   "source": [
    "# Testing with PJZ dataset"
   ]
  },
  {
   "cell_type": "code",
   "execution_count": 47,
   "metadata": {},
   "outputs": [
    {
     "name": "stdout",
     "output_type": "stream",
     "text": [
      "Extracting conversations\n",
      "%text:  (13822, 10)\n",
      "labels:  13822 0\n",
      "start_time_conversations:  13822 05:16\n",
      "# participants:  (13822, 10) [2]\n",
      "%int matrix:  (13822, 10) [0.625 0.375 0.    0.    0.   ]\n",
      "++++++++++++++++++++++++++++++++++++++++\n",
      "Calculating error ...\n",
      "Current groomers in test:  1104\n",
      "Filter groomers:  0\n",
      "error_f1_g:  0.6592\n",
      "At chunk  1 F1_g:  0.6592  # Documents:  13821\n",
      "****************************************\n",
      "Calculating error ...\n",
      "Current groomers in test:  1104\n",
      "Filter groomers:  0\n",
      "error_f1_g:  0.6916\n",
      "At chunk  2 F1_g:  0.6916  # Documents:  13822\n",
      "****************************************\n",
      "Calculating error ...\n",
      "Current groomers in test:  1104\n",
      "Filter groomers:  0\n",
      "error_f1_g:  0.7147\n",
      "At chunk  3 F1_g:  0.7147  # Documents:  13822\n",
      "****************************************\n",
      "Calculating error ...\n",
      "Current groomers in test:  1104\n",
      "Filter groomers:  0\n",
      "error_f1_g:  0.7309\n",
      "At chunk  4 F1_g:  0.7309  # Documents:  13822\n",
      "****************************************\n",
      "Calculating error ...\n",
      "Current groomers in test:  1104\n",
      "Filter groomers:  0\n",
      "error_f1_g:  0.7417\n",
      "At chunk  5 F1_g:  0.7417  # Documents:  13822\n",
      "****************************************\n",
      "Calculating error ...\n",
      "Current groomers in test:  1104\n",
      "Filter groomers:  0\n",
      "error_f1_g:  0.7414\n",
      "At chunk  6 F1_g:  0.7414  # Documents:  13822\n",
      "****************************************\n",
      "Calculating error ...\n",
      "Current groomers in test:  1104\n",
      "Filter groomers:  0\n",
      "error_f1_g:  0.7499\n",
      "At chunk  7 F1_g:  0.7499  # Documents:  13822\n",
      "****************************************\n",
      "Calculating error ...\n",
      "Current groomers in test:  1104\n",
      "Filter groomers:  0\n",
      "error_f1_g:  0.7527\n",
      "At chunk  8 F1_g:  0.7527  # Documents:  13822\n",
      "****************************************\n",
      "Calculating error ...\n",
      "Current groomers in test:  1104\n",
      "Filter groomers:  0\n",
      "error_f1_g:  0.7528\n",
      "At chunk  9 F1_g:  0.7528  # Documents:  13822\n",
      "****************************************\n",
      "Calculating error ...\n",
      "Current groomers in test:  1104\n",
      "Filter groomers:  0\n",
      "error_f1_g:  0.7497\n",
      "At chunk  10 F1_g:  0.7497  # Documents:  13822\n",
      "****************************************\n",
      "[0.6592, 0.6916, 0.7147, 0.7309, 0.7417, 0.7414, 0.7499, 0.7527, 0.7528, 0.7497]\n"
     ]
    },
    {
     "data": {
      "image/png": "[encoded data removed]",
      "text/plain": [
       "<Figure size 1000x400 with 1 Axes>"
      ]
     },
     "metadata": {},
     "output_type": "display_data"
    }
   ],
   "source": [
    "PATH = \"Data/PJZ.pkl\"\n",
    "calculating_preds(PATH,10)"
   ]
  },
  {
   "cell_type": "code",
   "execution_count": null,
   "metadata": {},
   "outputs": [],
   "source": []
  }
 ],
 "metadata": {
  "kernelspec": {
   "display_name": "Python 3 (ipykernel)",
   "language": "python",
   "name": "python3"
  },
  "language_info": {
   "codemirror_mode": {
    "name": "ipython",
    "version": 3
   },
   "file_extension": ".py",
   "mimetype": "text/x-python",
   "name": "python",
   "nbconvert_exporter": "python",
   "pygments_lexer": "ipython3",
   "version": "3.10.9"
  }
 },
 "nbformat": 4,
 "nbformat_minor": 4
}
